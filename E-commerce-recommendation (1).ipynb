{
 "cells": [
  {
   "cell_type": "markdown",
   "id": "b1209a68-f192-4cf4-8c75-f240472d1675",
   "metadata": {},
   "source": [
    "# Step 0: Load Packages and Libraries"
   ]
  },
  {
   "cell_type": "code",
   "execution_count": 1,
   "id": "004551aa-b187-48ca-a4e2-055053feec08",
   "metadata": {},
   "outputs": [],
   "source": [
    "import pandas as pd\n",
    "import numpy as np\n",
    "import matplotlib.pyplot as plt\n",
    "import seaborn as sns\n",
    "\n",
    "from sklearn.metrics.pairwise import cosine_similarity\n",
    "from sklearn.feature_extraction.text import TfidfVectorizer\n",
    "\n",
    "import os\n",
    "from scipy.sparse import coo_matrix\n",
    "from ast import literal_eval"
   ]
  },
  {
   "cell_type": "markdown",
   "id": "6b0b6846-6348-4e52-b6af-aeaf03e36251",
   "metadata": {},
   "source": [
    "# Step 1: Data Loading and Preprocessing"
   ]
  },
  {
   "cell_type": "code",
   "execution_count": 2,
   "id": "23b08a28-5ff0-450c-b3b5-c719103c9fd4",
   "metadata": {},
   "outputs": [
    {
     "data": {
      "text/plain": [
       "Index(['uniq_id', 'crawl_timestamp', 'product_url', 'product_name',\n",
       "       'product_category_tree', 'pid', 'retail_price', 'discounted_price',\n",
       "       'image', 'is_FK_Advantage_product', 'description', 'product_rating',\n",
       "       'overall_rating', 'brand', 'product_specifications'],\n",
       "      dtype='object')"
      ]
     },
     "execution_count": 2,
     "metadata": {},
     "output_type": "execute_result"
    }
   ],
   "source": [
    "# Read your dataset \n",
    "train_data = pd.read_csv(r'C:\\Users\\247386\\PycharmProjects\\Flask\\pythonProject\\models\\flipkart_com-ecommerce_sample.csv')\n",
    "\n",
    "train_data.columns"
   ]
  },
  {
   "cell_type": "code",
   "execution_count": 318,
   "id": "ddd90fad",
   "metadata": {},
   "outputs": [
    {
     "data": {
      "text/plain": [
       "0    2.0\n",
       "1    3.0\n",
       "2    4.0\n",
       "3    2.0\n",
       "4    3.0\n",
       "Name: ProdID, dtype: float64"
      ]
     },
     "execution_count": 318,
     "metadata": {},
     "output_type": "execute_result"
    }
   ],
   "source": [
    "# Rename the 'pid' column to 'ProdID'\n",
    "train_data.rename(columns={'pid': 'ProdID'}, inplace=True)\n",
    "\n",
    "# Now, you can proceed with the transformation as needed\n",
    "train_data['ProdID'] = train_data['ProdID'].astype(str)  # Ensure 'ProdID' is a string before extraction\n",
    "train_data['ProdID'] = train_data['ProdID'].str.extract(r'(\\d+)').astype(float)  # Extract numeric part\n",
    "# Verify the transformation\n",
    "train_data['ProdID'].head()"
   ]
  },
  {
   "cell_type": "code",
   "execution_count": 319,
   "id": "aacde20d-dcfd-4310-8d7c-b3e6ec36deb5",
   "metadata": {},
   "outputs": [
    {
     "data": {
      "text/html": [
       "<div>\n",
       "<style scoped>\n",
       "    .dataframe tbody tr th:only-of-type {\n",
       "        vertical-align: middle;\n",
       "    }\n",
       "\n",
       "    .dataframe tbody tr th {\n",
       "        vertical-align: top;\n",
       "    }\n",
       "\n",
       "    .dataframe thead th {\n",
       "        text-align: right;\n",
       "    }\n",
       "</style>\n",
       "<table border=\"1\" class=\"dataframe\">\n",
       "  <thead>\n",
       "    <tr style=\"text-align: right;\">\n",
       "      <th></th>\n",
       "      <th>uniq_id</th>\n",
       "      <th>product_name</th>\n",
       "      <th>product_rating</th>\n",
       "      <th>overall_rating</th>\n",
       "      <th>product_category_tree</th>\n",
       "      <th>brand</th>\n",
       "      <th>description</th>\n",
       "      <th>image</th>\n",
       "    </tr>\n",
       "  </thead>\n",
       "  <tbody>\n",
       "    <tr>\n",
       "      <th>0</th>\n",
       "      <td>c2d766ca982eca8304150849735ffef9</td>\n",
       "      <td>Alisha Solid Women's Cycling Shorts</td>\n",
       "      <td>No rating available</td>\n",
       "      <td>No rating available</td>\n",
       "      <td>[\"Clothing &gt;&gt; Women's Clothing &gt;&gt; Lingerie, Sl...</td>\n",
       "      <td>Alisha</td>\n",
       "      <td>Key Features of Alisha Solid Women's Cycling S...</td>\n",
       "      <td>[\"http://img5a.flixcart.com/image/short/u/4/a/...</td>\n",
       "    </tr>\n",
       "    <tr>\n",
       "      <th>1</th>\n",
       "      <td>7f7036a6d550aaa89d34c77bd39a5e48</td>\n",
       "      <td>FabHomeDecor Fabric Double Sofa Bed</td>\n",
       "      <td>No rating available</td>\n",
       "      <td>No rating available</td>\n",
       "      <td>[\"Furniture &gt;&gt; Living Room Furniture &gt;&gt; Sofa B...</td>\n",
       "      <td>FabHomeDecor</td>\n",
       "      <td>FabHomeDecor Fabric Double Sofa Bed (Finish Co...</td>\n",
       "      <td>[\"http://img6a.flixcart.com/image/sofa-bed/j/f...</td>\n",
       "    </tr>\n",
       "    <tr>\n",
       "      <th>2</th>\n",
       "      <td>f449ec65dcbc041b6ae5e6a32717d01b</td>\n",
       "      <td>AW Bellies</td>\n",
       "      <td>No rating available</td>\n",
       "      <td>No rating available</td>\n",
       "      <td>[\"Footwear &gt;&gt; Women's Footwear &gt;&gt; Ballerinas &gt;...</td>\n",
       "      <td>AW</td>\n",
       "      <td>Key Features of AW Bellies Sandals Wedges Heel...</td>\n",
       "      <td>[\"http://img5a.flixcart.com/image/shoe/7/z/z/r...</td>\n",
       "    </tr>\n",
       "  </tbody>\n",
       "</table>\n",
       "</div>"
      ],
      "text/plain": [
       "                            uniq_id                         product_name  \\\n",
       "0  c2d766ca982eca8304150849735ffef9  Alisha Solid Women's Cycling Shorts   \n",
       "1  7f7036a6d550aaa89d34c77bd39a5e48  FabHomeDecor Fabric Double Sofa Bed   \n",
       "2  f449ec65dcbc041b6ae5e6a32717d01b                           AW Bellies   \n",
       "\n",
       "        product_rating       overall_rating  \\\n",
       "0  No rating available  No rating available   \n",
       "1  No rating available  No rating available   \n",
       "2  No rating available  No rating available   \n",
       "\n",
       "                               product_category_tree         brand  \\\n",
       "0  [\"Clothing >> Women's Clothing >> Lingerie, Sl...        Alisha   \n",
       "1  [\"Furniture >> Living Room Furniture >> Sofa B...  FabHomeDecor   \n",
       "2  [\"Footwear >> Women's Footwear >> Ballerinas >...            AW   \n",
       "\n",
       "                                         description  \\\n",
       "0  Key Features of Alisha Solid Women's Cycling S...   \n",
       "1  FabHomeDecor Fabric Double Sofa Bed (Finish Co...   \n",
       "2  Key Features of AW Bellies Sandals Wedges Heel...   \n",
       "\n",
       "                                               image  \n",
       "0  [\"http://img5a.flixcart.com/image/short/u/4/a/...  \n",
       "1  [\"http://img6a.flixcart.com/image/sofa-bed/j/f...  \n",
       "2  [\"http://img5a.flixcart.com/image/shoe/7/z/z/r...  "
      ]
     },
     "execution_count": 319,
     "metadata": {},
     "output_type": "execute_result"
    }
   ],
   "source": [
    "# Select the relevant columns\n",
    "train_data = train_data[['uniq_id', 'product_name', 'product_rating', 'overall_rating', \n",
    "                         'product_category_tree', 'brand', 'description', \n",
    "                         'image']]\n",
    "\n",
    "# Display the first three rows\n",
    "train_data.head(3)\n"
   ]
  },
  {
   "cell_type": "markdown",
   "id": "c50e688a-0984-4aea-9d98-65b65fd3e7e3",
   "metadata": {},
   "source": [
    "# Basic Operations"
   ]
  },
  {
   "cell_type": "code",
   "execution_count": 320,
   "id": "289f6a6b-6014-4081-a17d-e891d5d5c793",
   "metadata": {},
   "outputs": [
    {
     "data": {
      "text/plain": [
       "0                  Alisha\n",
       "1            FabHomeDecor\n",
       "2                      AW\n",
       "3                  Alisha\n",
       "4                  Sicons\n",
       "               ...       \n",
       "19995          WallDesign\n",
       "19996          Wallmantra\n",
       "19997    Elite Collection\n",
       "19998    Elite Collection\n",
       "19999    Elite Collection\n",
       "Name: brand, Length: 20000, dtype: object"
      ]
     },
     "execution_count": 320,
     "metadata": {},
     "output_type": "execute_result"
    }
   ],
   "source": [
    "train_data['brand']"
   ]
  },
  {
   "cell_type": "code",
   "execution_count": 321,
   "id": "6e6406b8-907b-462a-acf7-2afc0fda9297",
   "metadata": {},
   "outputs": [
    {
     "data": {
      "text/plain": [
       "(20000, 8)"
      ]
     },
     "execution_count": 321,
     "metadata": {},
     "output_type": "execute_result"
    }
   ],
   "source": [
    "train_data.shape"
   ]
  },
  {
   "cell_type": "code",
   "execution_count": 322,
   "id": "b8f4e49f-f64d-49fc-8bc6-7c7fe3a9dd91",
   "metadata": {},
   "outputs": [
    {
     "data": {
      "text/plain": [
       "uniq_id                     0\n",
       "product_name                0\n",
       "product_rating              0\n",
       "overall_rating              0\n",
       "product_category_tree       0\n",
       "brand                    5864\n",
       "description                 2\n",
       "image                       3\n",
       "dtype: int64"
      ]
     },
     "execution_count": 322,
     "metadata": {},
     "output_type": "execute_result"
    }
   ],
   "source": [
    "train_data.isnull().sum()"
   ]
  },
  {
   "cell_type": "code",
   "execution_count": 323,
   "id": "dcc09d90",
   "metadata": {},
   "outputs": [],
   "source": [
    "train_data['brand'].fillna(train_data['brand'].mode()[0], inplace=True)\n"
   ]
  },
  {
   "cell_type": "code",
   "execution_count": 324,
   "id": "c3461448",
   "metadata": {},
   "outputs": [],
   "source": [
    "train_data.dropna(subset=['description'], inplace=True)\n"
   ]
  },
  {
   "cell_type": "code",
   "execution_count": 325,
   "id": "f7940459",
   "metadata": {},
   "outputs": [],
   "source": [
    "train_data.dropna(subset=['image'], inplace=True)\n"
   ]
  },
  {
   "cell_type": "code",
   "execution_count": 326,
   "id": "92fb55f8",
   "metadata": {},
   "outputs": [
    {
     "data": {
      "text/plain": [
       "uniq_id                  0\n",
       "product_name             0\n",
       "product_rating           0\n",
       "overall_rating           0\n",
       "product_category_tree    0\n",
       "brand                    0\n",
       "description              0\n",
       "image                    0\n",
       "dtype: int64"
      ]
     },
     "execution_count": 326,
     "metadata": {},
     "output_type": "execute_result"
    }
   ],
   "source": [
    "train_data.isnull().sum()"
   ]
  },
  {
   "cell_type": "code",
   "execution_count": 327,
   "id": "856ddafe-7e3a-4634-946b-9723684384e8",
   "metadata": {},
   "outputs": [
    {
     "data": {
      "text/plain": [
       "0"
      ]
     },
     "execution_count": 327,
     "metadata": {},
     "output_type": "execute_result"
    }
   ],
   "source": [
    "train_data.duplicated().sum()"
   ]
  },
  {
   "cell_type": "code",
   "execution_count": 328,
   "id": "108d115f-8557-4bbe-9508-21427ebe9d5f",
   "metadata": {},
   "outputs": [
    {
     "data": {
      "text/plain": [
       "Index(['ID', 'Name', 'Rating', 'OverallRating', 'CategoryTree', 'Brand',\n",
       "       'Description', 'ImageURL'],\n",
       "      dtype='object')"
      ]
     },
     "execution_count": 328,
     "metadata": {},
     "output_type": "execute_result"
    }
   ],
   "source": [
    "# Define the mapping of current column names to shorter names\n",
    "column_name_mapping = {\n",
    "    'uniq_id': 'ID',\n",
    "    'product_name': 'Name',\n",
    "    'product_rating': 'Rating',\n",
    "    'overall_rating': 'OverallRating',\n",
    "    'product_category_tree': 'CategoryTree',\n",
    "    'brand': 'Brand',\n",
    "    'description': 'Description',\n",
    "    'image': 'ImageURL',\n",
    "    'product_specifications': 'Specifications'\n",
    "}\n",
    "\n",
    "# Rename the columns using the mapping\n",
    "train_data.rename(columns=column_name_mapping, inplace=True)\n",
    "\n",
    "# Verify the updated column names\n",
    "train_data.columns\n"
   ]
  },
  {
   "cell_type": "markdown",
   "id": "2caa214e-b94f-4445-9d88-2e31e09d4cfb",
   "metadata": {},
   "source": [
    "# Step 2: EDA (Exploratory Data Analysis)"
   ]
  },
  {
   "cell_type": "code",
   "execution_count": 329,
   "id": "207fbfcf-1204-4f90-8517-4efabf1be338",
   "metadata": {},
   "outputs": [
    {
     "name": "stdout",
     "output_type": "stream",
     "text": [
      "Number of unique users: 19995\n",
      "Number of unique items: 12672\n",
      "Number of unique ratings: 36\n"
     ]
    }
   ],
   "source": [
    "# Basic statistics\n",
    "num_users = train_data['ID'].nunique()  # Number of unique users (ID)\n",
    "num_items = train_data['Name'].nunique()  # Number of unique items (Product names)\n",
    "num_ratings = train_data['Rating'].nunique()  # Number of unique ratings\n",
    "\n",
    "# Print the statistics\n",
    "print(f\"Number of unique users: {num_users}\")\n",
    "print(f\"Number of unique items: {num_items}\")\n",
    "print(f\"Number of unique ratings: {num_ratings}\")\n"
   ]
  },
  {
   "cell_type": "code",
   "execution_count": 330,
   "id": "2dca205a-b18c-4a61-ade8-5b15c872536b",
   "metadata": {},
   "outputs": [
    {
     "data": {
      "image/png": "[encoded data removed]",
      "text/plain": [
       "<Figure size 1200x800 with 2 Axes>"
      ]
     },
     "metadata": {},
     "output_type": "display_data"
    }
   ],
   "source": [
    "# Convert 'Rating' to numeric, forcing errors to NaN (which can be handled later)\n",
    "train_data['Rating'] = pd.to_numeric(train_data['Rating'], errors='coerce')\n",
    "\n",
    "# Limiting the number of brands and products to focus on a smaller subset\n",
    "top_brands = train_data['Brand'].value_counts().head(10).index\n",
    "top_products = train_data['Name'].value_counts().head(10).index\n",
    "\n",
    "# Pivot the DataFrame to create a brand-product matrix with ratings for the top brands and products\n",
    "heatmap_data = train_data[train_data['Brand'].isin(top_brands) & train_data['Name'].isin(top_products)] \\\n",
    "    .pivot_table(values='Rating', index='Brand', columns='Name', aggfunc='mean')\n",
    "\n",
    "# Create the heatmap with a different colormap\n",
    "plt.figure(figsize=(12, 8))\n",
    "sns.heatmap(heatmap_data, annot=True, fmt='.1f', cmap='viridis', cbar=True)\n",
    "plt.title('Heatmap of Product Ratings by Top Brands and Products')\n",
    "plt.xlabel('Product Name')\n",
    "plt.ylabel('Brand')\n",
    "plt.show()\n"
   ]
  },
  {
   "cell_type": "code",
   "execution_count": 331,
   "id": "076ab80e-4e97-47ad-a331-1e043c4ee353",
   "metadata": {},
   "outputs": [
    {
     "data": {
      "image/png": "[encoded data removed]",
      "text/plain": [
       "<Figure size 600x500 with 1 Axes>"
      ]
     },
     "metadata": {},
     "output_type": "display_data"
    }
   ],
   "source": [
    "plt.figure(figsize=(6, 5))\n",
    "train_data['Rating'].hist(bins=20, edgecolor='k', color='blue')\n",
    "plt.xlabel('Rating')\n",
    "plt.ylabel('Frequency')\n",
    "plt.title('Distribution of Product Ratings')\n",
    "plt.show()\n"
   ]
  },
  {
   "cell_type": "code",
   "execution_count": 332,
   "id": "35b2c30b-4241-41b0-944d-3ab86ba9174e",
   "metadata": {},
   "outputs": [
    {
     "data": {
      "image/png": "[encoded data removed]",
      "text/plain": [
       "<Figure size 640x480 with 1 Axes>"
      ]
     },
     "metadata": {},
     "output_type": "display_data"
    }
   ],
   "source": [
    "# Most popular product names\n",
    "popular_products = train_data['Name'].value_counts().head(5)\n",
    "popular_products.plot(kind='bar', color='green')\n",
    "plt.title(\"Most Popular Products\")\n",
    "plt.xlabel('Product Name')\n",
    "plt.ylabel('Frequency')\n",
    "plt.xticks(rotation=45, ha='right')\n",
    "plt.show()\n"
   ]
  },
  {
   "cell_type": "code",
   "execution_count": 333,
   "id": "a21c1924-279e-4228-ad02-2d467eed4763",
   "metadata": {},
   "outputs": [
    {
     "data": {
      "image/png": "[encoded data removed]",
      "text/plain": [
       "<Figure size 1000x600 with 1 Axes>"
      ]
     },
     "metadata": {},
     "output_type": "display_data"
    }
   ],
   "source": [
    "# Most rated counts (rating distribution)\n",
    "plt.figure(figsize=(10, 6))  # Increase figure size to prevent overlap\n",
    "train_data['Rating'].value_counts().sort_index().plot(kind='bar', color='red', width=0.8)\n",
    "plt.title(\"Most Rated Counts\")\n",
    "plt.xlabel('Rating')\n",
    "plt.ylabel('Frequency')\n",
    "plt.xticks(rotation=45, ha='right')  # Rotate x-axis labels for better readability\n",
    "plt.tight_layout()  # Ensure everything fits in the figure area\n",
    "plt.show()\n"
   ]
  },
  {
   "cell_type": "markdown",
   "id": "51ef4383-871b-4530-8c04-be32bd786785",
   "metadata": {},
   "source": [
    "# Step 3: Data Cleaning and Tags Creations"
   ]
  },
  {
   "cell_type": "code",
   "execution_count": 334,
   "id": "e7703db0-400f-4dbf-9a7c-1f75abcfa36c",
   "metadata": {},
   "outputs": [],
   "source": [
    "import spacy\n",
    "from spacy.lang.en.stop_words import STOP_WORDS\n",
    "\n",
    "train_data = pd.read_csv(r'C:\\Users\\247386\\Documents\\Ecommerce_recommendation_using_GenAI\\flipkart_com-ecommerce_sample.csv')\n",
    "\n",
    "# Initialize spaCy model\n",
    "nlp = spacy.load(\"en_core_web_sm\")\n",
    "\n",
    "def clean_and_extract_tags(text):\n",
    "    if pd.isna(text):\n",
    "        return ''\n",
    "    doc = nlp(str(text).lower())\n",
    "    tags = [token.text for token in doc if token.text.isalnum() and token.text not in STOP_WORDS]\n",
    "    return ', '.join(tags)\n",
    "\n",
    "columns_to_extract_tags_from = ['product_category_tree', 'brand', 'description']\n",
    "\n",
    "\n",
    "for column in columns_to_extract_tags_from:\n",
    "    if column in train_data.columns:\n",
    "        train_data[column] = train_data[column].astype(str).apply(clean_and_extract_tags)\n",
    "    else:\n",
    "        print(f\"Column '{column}' does not exist in the dataset.\")\n",
    "\n",
    "train_data['Tags'] = train_data[columns_to_extract_tags_from].fillna('').apply(lambda row: ', '.join(row), axis=1)\n"
   ]
  },
  {
   "cell_type": "code",
   "execution_count": 335,
   "id": "05167092-e409-49cd-817e-77a2d175357f",
   "metadata": {},
   "outputs": [],
   "source": [
    "# Concatenate the cleaned tags from all relevant columns\n",
    "train_data['Tags'] = train_data[columns_to_extract_tags_from].apply(lambda row: ', '.join(row), axis=1)"
   ]
  },
  {
   "cell_type": "markdown",
   "id": "65b03ab2-54d9-4c02-924c-918c616b2e7d",
   "metadata": {},
   "source": [
    "# Rating Base Recommendations System"
   ]
  },
  {
   "cell_type": "code",
   "execution_count": 336,
   "id": "9d77c9ee-fd6e-4e9a-be69-fc6ae369ef2b",
   "metadata": {},
   "outputs": [],
   "source": [
    "# Ensure 'product_rating' is numeric\n",
    "train_data['product_rating'] = pd.to_numeric(train_data['product_rating'], errors='coerce')\n",
    "\n",
    "# Now calculate the average rating\n",
    "average_ratings = train_data.groupby(['product_name', 'product_specifications', 'brand', 'image'])['product_rating'].mean().reset_index()\n"
   ]
  },
  {
   "cell_type": "code",
   "execution_count": 337,
   "id": "38177bb6",
   "metadata": {},
   "outputs": [
    {
     "data": {
      "text/html": [
       "<div>\n",
       "<style scoped>\n",
       "    .dataframe tbody tr th:only-of-type {\n",
       "        vertical-align: middle;\n",
       "    }\n",
       "\n",
       "    .dataframe tbody tr th {\n",
       "        vertical-align: top;\n",
       "    }\n",
       "\n",
       "    .dataframe thead th {\n",
       "        text-align: right;\n",
       "    }\n",
       "</style>\n",
       "<table border=\"1\" class=\"dataframe\">\n",
       "  <thead>\n",
       "    <tr style=\"text-align: right;\">\n",
       "      <th></th>\n",
       "      <th>product_name</th>\n",
       "      <th>product_rating</th>\n",
       "    </tr>\n",
       "  </thead>\n",
       "  <tbody>\n",
       "    <tr>\n",
       "      <th>34</th>\n",
       "      <td>3a Autocare 3D MAT Car Mat Suzuki New Swift</td>\n",
       "      <td>5.0</td>\n",
       "    </tr>\n",
       "    <tr>\n",
       "      <th>5214</th>\n",
       "      <td>Fastrack 9333PP04 Analog Watch  - For Men</td>\n",
       "      <td>5.0</td>\n",
       "    </tr>\n",
       "    <tr>\n",
       "      <th>10031</th>\n",
       "      <td>Maggie Women's A-line Dress</td>\n",
       "      <td>5.0</td>\n",
       "    </tr>\n",
       "    <tr>\n",
       "      <th>10032</th>\n",
       "      <td>Maggie Women's Gathered Dress</td>\n",
       "      <td>5.0</td>\n",
       "    </tr>\n",
       "    <tr>\n",
       "      <th>10036</th>\n",
       "      <td>Maggie Women's Maxi Dress</td>\n",
       "      <td>5.0</td>\n",
       "    </tr>\n",
       "    <tr>\n",
       "      <th>10037</th>\n",
       "      <td>Maggie Women's Shift Dress</td>\n",
       "      <td>5.0</td>\n",
       "    </tr>\n",
       "    <tr>\n",
       "      <th>10038</th>\n",
       "      <td>Maggie Women's Shift Dress</td>\n",
       "      <td>5.0</td>\n",
       "    </tr>\n",
       "    <tr>\n",
       "      <th>10058</th>\n",
       "      <td>Magiq Nice Merry Women's Push-up Bra</td>\n",
       "      <td>5.0</td>\n",
       "    </tr>\n",
       "    <tr>\n",
       "      <th>10077</th>\n",
       "      <td>Maharaja Timer Electric Tandoor</td>\n",
       "      <td>5.0</td>\n",
       "    </tr>\n",
       "    <tr>\n",
       "      <th>10097</th>\n",
       "      <td>Mandhania Cotton Bath Towel</td>\n",
       "      <td>5.0</td>\n",
       "    </tr>\n",
       "  </tbody>\n",
       "</table>\n",
       "</div>"
      ],
      "text/plain": [
       "                                      product_name  product_rating\n",
       "34     3a Autocare 3D MAT Car Mat Suzuki New Swift             5.0\n",
       "5214     Fastrack 9333PP04 Analog Watch  - For Men             5.0\n",
       "10031                  Maggie Women's A-line Dress             5.0\n",
       "10032                Maggie Women's Gathered Dress             5.0\n",
       "10036                    Maggie Women's Maxi Dress             5.0\n",
       "10037                   Maggie Women's Shift Dress             5.0\n",
       "10038                   Maggie Women's Shift Dress             5.0\n",
       "10058         Magiq Nice Merry Women's Push-up Bra             5.0\n",
       "10077              Maharaja Timer Electric Tandoor             5.0\n",
       "10097                  Mandhania Cotton Bath Towel             5.0"
      ]
     },
     "execution_count": 337,
     "metadata": {},
     "output_type": "execute_result"
    }
   ],
   "source": [
    "# Ensure 'product_rating' is of type float using .loc to avoid SettingWithCopyWarning\n",
    "rating_base_recommendation.loc[:, 'product_rating'] = rating_base_recommendation['product_rating'].astype(float)\n",
    "\n",
    "# Sort the products by rating in descending order\n",
    "sorted_recommendations = rating_base_recommendation.sort_values(by='product_rating', ascending=False)\n",
    "\n",
    "# Get the top N recommendations (e.g., top 10 products)\n",
    "top_rated_recommendations = sorted_recommendations.head(10)\n",
    "\n",
    "# Display the top-rated recommendations (including product name and rating)\n",
    "top_rated_recommendations[['product_name', 'product_rating']]\n"
   ]
  },
  {
   "cell_type": "markdown",
   "id": "a4756c3c-8f15-474f-82f5-8a4751fb9de5",
   "metadata": {},
   "source": [
    "# Content Base Recommendation system (User Preferences or Items similarities)"
   ]
  },
  {
   "cell_type": "code",
   "execution_count": 338,
   "id": "f42e879f-db7d-4d79-b00f-338144d5192e",
   "metadata": {},
   "outputs": [],
   "source": [
    "train_data['content'] = train_data['product_name'] + ' ' + train_data['product_specifications'] + ' ' + train_data['brand']\n"
   ]
  },
  {
   "cell_type": "code",
   "execution_count": 339,
   "id": "61cb7af9",
   "metadata": {},
   "outputs": [],
   "source": [
    "# Replace NaN values with an empty string in the 'content' column\n",
    "train_data['content'] = train_data['content'].fillna('')\n"
   ]
  },
  {
   "cell_type": "code",
   "execution_count": 340,
   "id": "c8f652d5",
   "metadata": {},
   "outputs": [],
   "source": [
    "from sklearn.feature_extraction.text import TfidfVectorizer\n",
    "\n",
    "# Initialize the vectorizer\n",
    "tfidf_vectorizer = TfidfVectorizer(stop_words='english')\n",
    "\n",
    "# Fit and transform the content data\n",
    "tfidf_matrix_content = tfidf_vectorizer.fit_transform(train_data['content'])\n"
   ]
  },
  {
   "cell_type": "code",
   "execution_count": 341,
   "id": "33d4a495",
   "metadata": {},
   "outputs": [],
   "source": [
    "from sklearn.metrics.pairwise import cosine_similarity\n",
    "\n",
    "# Compute the cosine similarities\n",
    "cosine_similarities_content = cosine_similarity(tfidf_matrix_content, tfidf_matrix_content)\n"
   ]
  },
  {
   "cell_type": "code",
   "execution_count": 342,
   "id": "4ba3e3c2",
   "metadata": {},
   "outputs": [],
   "source": [
    "# Function to get the most similar products for a given product\n",
    "def get_content_based_recommendations(product_index, cosine_similarities, top_n=10):\n",
    "    # Get the pairwise similarity scores for the product\n",
    "    similarity_scores = list(enumerate(cosine_similarities[product_index]))\n",
    "    \n",
    "    # Sort the products based on similarity scores\n",
    "    similarity_scores = sorted(similarity_scores, key=lambda x: x[1], reverse=True)\n",
    "    \n",
    "    # Get the top N most similar products (excluding the product itself)\n",
    "    similar_products = similarity_scores[1:top_n+1]\n",
    "    \n",
    "    # Get the indices of the most similar products\n",
    "    similar_product_indices = [product[0] for product in similar_products]\n",
    "    \n",
    "    # Return the top N similar products\n",
    "    return train_data.iloc[similar_product_indices]\n",
    "\n",
    "# Example: Get recommendations for the product at index 0 (the first product)\n",
    "recommended_products = get_content_based_recommendations(0, cosine_similarities_content)\n"
   ]
  },
  {
   "cell_type": "code",
   "execution_count": 343,
   "id": "5dbac630",
   "metadata": {},
   "outputs": [
    {
     "data": {
      "text/html": [
       "<div>\n",
       "<style scoped>\n",
       "    .dataframe tbody tr th:only-of-type {\n",
       "        vertical-align: middle;\n",
       "    }\n",
       "\n",
       "    .dataframe tbody tr th {\n",
       "        vertical-align: top;\n",
       "    }\n",
       "\n",
       "    .dataframe thead th {\n",
       "        text-align: right;\n",
       "    }\n",
       "</style>\n",
       "<table border=\"1\" class=\"dataframe\">\n",
       "  <thead>\n",
       "    <tr style=\"text-align: right;\">\n",
       "      <th></th>\n",
       "      <th>product_name</th>\n",
       "      <th>product_specifications</th>\n",
       "      <th>brand</th>\n",
       "    </tr>\n",
       "  </thead>\n",
       "  <tbody>\n",
       "    <tr>\n",
       "      <th>3</th>\n",
       "      <td>Alisha Solid Women's Cycling Shorts</td>\n",
       "      <td>{\"product_specification\"=&gt;[{\"key\"=&gt;\"Number of ...</td>\n",
       "      <td>alisha</td>\n",
       "    </tr>\n",
       "    <tr>\n",
       "      <th>6</th>\n",
       "      <td>Alisha Solid Women's Cycling Shorts</td>\n",
       "      <td>{\"product_specification\"=&gt;[{\"key\"=&gt;\"Number of ...</td>\n",
       "      <td>alisha</td>\n",
       "    </tr>\n",
       "    <tr>\n",
       "      <th>9</th>\n",
       "      <td>Alisha Solid Women's Cycling Shorts</td>\n",
       "      <td>{\"product_specification\"=&gt;[{\"key\"=&gt;\"Number of ...</td>\n",
       "      <td>alisha</td>\n",
       "    </tr>\n",
       "    <tr>\n",
       "      <th>13</th>\n",
       "      <td>Alisha Solid Women's Cycling Shorts</td>\n",
       "      <td>{\"product_specification\"=&gt;[{\"key\"=&gt;\"Number of ...</td>\n",
       "      <td>alisha</td>\n",
       "    </tr>\n",
       "    <tr>\n",
       "      <th>15</th>\n",
       "      <td>Alisha Solid Women's Cycling Shorts</td>\n",
       "      <td>{\"product_specification\"=&gt;[{\"key\"=&gt;\"Number of ...</td>\n",
       "      <td>alisha</td>\n",
       "    </tr>\n",
       "    <tr>\n",
       "      <th>979</th>\n",
       "      <td>Mynte Solid Women's Cycling Shorts, Gym Shorts...</td>\n",
       "      <td>{\"product_specification\"=&gt;[{\"key\"=&gt;\"Number of ...</td>\n",
       "      <td>mynte</td>\n",
       "    </tr>\n",
       "    <tr>\n",
       "      <th>948</th>\n",
       "      <td>Mynte Solid Women's Cycling Shorts, Gym Shorts...</td>\n",
       "      <td>{\"product_specification\"=&gt;[{\"key\"=&gt;\"Number of ...</td>\n",
       "      <td>mynte</td>\n",
       "    </tr>\n",
       "    <tr>\n",
       "      <th>978</th>\n",
       "      <td>Mynte Solid Women's Cycling Shorts, Gym Shorts...</td>\n",
       "      <td>{\"product_specification\"=&gt;[{\"key\"=&gt;\"Number of ...</td>\n",
       "      <td>mynte</td>\n",
       "    </tr>\n",
       "    <tr>\n",
       "      <th>965</th>\n",
       "      <td>Mynte Solid Women's Cycling Shorts, Gym Shorts...</td>\n",
       "      <td>{\"product_specification\"=&gt;[{\"key\"=&gt;\"Number of ...</td>\n",
       "      <td>mynte</td>\n",
       "    </tr>\n",
       "    <tr>\n",
       "      <th>935</th>\n",
       "      <td>Mynte Solid Women's Cycling Shorts, Gym Shorts...</td>\n",
       "      <td>{\"product_specification\"=&gt;[{\"key\"=&gt;\"Number of ...</td>\n",
       "      <td>mynte</td>\n",
       "    </tr>\n",
       "  </tbody>\n",
       "</table>\n",
       "</div>"
      ],
      "text/plain": [
       "                                          product_name  \\\n",
       "3                  Alisha Solid Women's Cycling Shorts   \n",
       "6                  Alisha Solid Women's Cycling Shorts   \n",
       "9                  Alisha Solid Women's Cycling Shorts   \n",
       "13                 Alisha Solid Women's Cycling Shorts   \n",
       "15                 Alisha Solid Women's Cycling Shorts   \n",
       "979  Mynte Solid Women's Cycling Shorts, Gym Shorts...   \n",
       "948  Mynte Solid Women's Cycling Shorts, Gym Shorts...   \n",
       "978  Mynte Solid Women's Cycling Shorts, Gym Shorts...   \n",
       "965  Mynte Solid Women's Cycling Shorts, Gym Shorts...   \n",
       "935  Mynte Solid Women's Cycling Shorts, Gym Shorts...   \n",
       "\n",
       "                                product_specifications   brand  \n",
       "3    {\"product_specification\"=>[{\"key\"=>\"Number of ...  alisha  \n",
       "6    {\"product_specification\"=>[{\"key\"=>\"Number of ...  alisha  \n",
       "9    {\"product_specification\"=>[{\"key\"=>\"Number of ...  alisha  \n",
       "13   {\"product_specification\"=>[{\"key\"=>\"Number of ...  alisha  \n",
       "15   {\"product_specification\"=>[{\"key\"=>\"Number of ...  alisha  \n",
       "979  {\"product_specification\"=>[{\"key\"=>\"Number of ...   mynte  \n",
       "948  {\"product_specification\"=>[{\"key\"=>\"Number of ...   mynte  \n",
       "978  {\"product_specification\"=>[{\"key\"=>\"Number of ...   mynte  \n",
       "965  {\"product_specification\"=>[{\"key\"=>\"Number of ...   mynte  \n",
       "935  {\"product_specification\"=>[{\"key\"=>\"Number of ...   mynte  "
      ]
     },
     "execution_count": 343,
     "metadata": {},
     "output_type": "execute_result"
    }
   ],
   "source": [
    "recommended_products[['product_name', 'product_specifications', 'brand']]\n"
   ]
  },
  {
   "cell_type": "markdown",
   "id": "74f01e43-f081-48fc-b1c4-baa457d46754",
   "metadata": {},
   "source": [
    "# Function To Recommend Products for Content Base"
   ]
  },
  {
   "cell_type": "code",
   "execution_count": 344,
   "id": "04fb2a4a-13ff-4d32-b374-653320803429",
   "metadata": {},
   "outputs": [],
   "source": [
    "def content_based_recommendations(train_data, item_name, top_n=10):\n",
    "    # Check if the item name exists in the training data\n",
    "    if item_name not in train_data['product_name'].values:\n",
    "        print(f\"Item '{item_name}' not found in the training data.\")\n",
    "        return pd.DataFrame()\n",
    "\n",
    "    # Create a TF-IDF vectorizer for item descriptions\n",
    "    tfidf_vectorizer = TfidfVectorizer(stop_words='english')\n",
    "\n",
    "    # Apply TF-IDF vectorization to item descriptions\n",
    "    tfidf_matrix_content = tfidf_vectorizer.fit_transform(train_data['Tags'])  # Use 'Tags' column for content-based similarity\n",
    "\n",
    "    # Calculate cosine similarity between items based on descriptions\n",
    "    cosine_similarities_content = cosine_similarity(tfidf_matrix_content, tfidf_matrix_content)\n",
    "\n",
    "    # Find the index of the item\n",
    "    item_index = train_data[train_data['product_name'] == item_name].index[0]\n",
    "\n",
    "    # Get the cosine similarity scores for the item\n",
    "    similar_items = list(enumerate(cosine_similarities_content[item_index]))\n",
    "\n",
    "    # Sort similar items by similarity score in descending order\n",
    "    similar_items = sorted(similar_items, key=lambda x: x[1], reverse=True)\n",
    "\n",
    "    # Get the top N most similar items (excluding the item itself)\n",
    "    top_similar_items = similar_items[1:top_n+1]\n",
    "\n",
    "    # Get the indices of the top similar items\n",
    "    recommended_item_indices = [x[0] for x in top_similar_items]\n",
    "\n",
    "    # Get the details of the top similar items\n",
    "    recommended_items_details = train_data.iloc[recommended_item_indices][['product_name',  'brand', 'image', 'product_rating']]\n",
    "\n",
    "    return recommended_items_details\n"
   ]
  },
  {
   "cell_type": "code",
   "execution_count": 345,
   "id": "b7dc2fc8-a6eb-4369-816e-6f18252c2a9a",
   "metadata": {},
   "outputs": [
    {
     "data": {
      "text/html": [
       "<div>\n",
       "<style scoped>\n",
       "    .dataframe tbody tr th:only-of-type {\n",
       "        vertical-align: middle;\n",
       "    }\n",
       "\n",
       "    .dataframe tbody tr th {\n",
       "        vertical-align: top;\n",
       "    }\n",
       "\n",
       "    .dataframe thead th {\n",
       "        text-align: right;\n",
       "    }\n",
       "</style>\n",
       "<table border=\"1\" class=\"dataframe\">\n",
       "  <thead>\n",
       "    <tr style=\"text-align: right;\">\n",
       "      <th></th>\n",
       "      <th>product_name</th>\n",
       "      <th>brand</th>\n",
       "      <th>image</th>\n",
       "      <th>product_rating</th>\n",
       "    </tr>\n",
       "  </thead>\n",
       "  <tbody>\n",
       "    <tr>\n",
       "      <th>18643</th>\n",
       "      <td>dongli Striped Baby Boy's Polo Neck T-Shirt</td>\n",
       "      <td>dongli</td>\n",
       "      <td>[\"http://img6a.flixcart.com/image/t-shirt/w/4/...</td>\n",
       "      <td>NaN</td>\n",
       "    </tr>\n",
       "    <tr>\n",
       "      <th>19128</th>\n",
       "      <td>Dongli Striped Baby Boy's Polo Neck T-Shirt</td>\n",
       "      <td>dongli</td>\n",
       "      <td>[\"http://img6a.flixcart.com/image/t-shirt/d/9/...</td>\n",
       "      <td>NaN</td>\n",
       "    </tr>\n",
       "    <tr>\n",
       "      <th>19141</th>\n",
       "      <td>Dongli Striped Baby Boy's Polo Neck T-Shirt</td>\n",
       "      <td>dongli</td>\n",
       "      <td>[\"http://img6a.flixcart.com/image/t-shirt/u/b/...</td>\n",
       "      <td>NaN</td>\n",
       "    </tr>\n",
       "    <tr>\n",
       "      <th>19142</th>\n",
       "      <td>Dongli Striped Baby Boy's Polo Neck T-Shirt</td>\n",
       "      <td>dongli</td>\n",
       "      <td>[\"http://img5a.flixcart.com/image/t-shirt/d/y/...</td>\n",
       "      <td>NaN</td>\n",
       "    </tr>\n",
       "    <tr>\n",
       "      <th>19148</th>\n",
       "      <td>Dongli Striped Baby Boy's Polo Neck T-Shirt</td>\n",
       "      <td>dongli</td>\n",
       "      <td>[\"http://img5a.flixcart.com/image/t-shirt/6/9/...</td>\n",
       "      <td>NaN</td>\n",
       "    </tr>\n",
       "    <tr>\n",
       "      <th>19116</th>\n",
       "      <td>Dongli Striped Baby Boy's Polo Neck T-Shirt</td>\n",
       "      <td>dongli</td>\n",
       "      <td>[\"http://img5a.flixcart.com/image/t-shirt/u/q/...</td>\n",
       "      <td>NaN</td>\n",
       "    </tr>\n",
       "    <tr>\n",
       "      <th>19093</th>\n",
       "      <td>Dongli Striped Baby Boy's Polo Neck T-Shirt</td>\n",
       "      <td>dongli</td>\n",
       "      <td>[\"http://img5a.flixcart.com/image/t-shirt/c/j/...</td>\n",
       "      <td>NaN</td>\n",
       "    </tr>\n",
       "    <tr>\n",
       "      <th>19113</th>\n",
       "      <td>Dongli Striped Baby Boy's Polo Neck T-Shirt</td>\n",
       "      <td>dongli</td>\n",
       "      <td>[\"http://img6a.flixcart.com/image/t-shirt/x/z/...</td>\n",
       "      <td>NaN</td>\n",
       "    </tr>\n",
       "  </tbody>\n",
       "</table>\n",
       "</div>"
      ],
      "text/plain": [
       "                                      product_name   brand  \\\n",
       "18643  dongli Striped Baby Boy's Polo Neck T-Shirt  dongli   \n",
       "19128  Dongli Striped Baby Boy's Polo Neck T-Shirt  dongli   \n",
       "19141  Dongli Striped Baby Boy's Polo Neck T-Shirt  dongli   \n",
       "19142  Dongli Striped Baby Boy's Polo Neck T-Shirt  dongli   \n",
       "19148  Dongli Striped Baby Boy's Polo Neck T-Shirt  dongli   \n",
       "19116  Dongli Striped Baby Boy's Polo Neck T-Shirt  dongli   \n",
       "19093  Dongli Striped Baby Boy's Polo Neck T-Shirt  dongli   \n",
       "19113  Dongli Striped Baby Boy's Polo Neck T-Shirt  dongli   \n",
       "\n",
       "                                                   image  product_rating  \n",
       "18643  [\"http://img6a.flixcart.com/image/t-shirt/w/4/...             NaN  \n",
       "19128  [\"http://img6a.flixcart.com/image/t-shirt/d/9/...             NaN  \n",
       "19141  [\"http://img6a.flixcart.com/image/t-shirt/u/b/...             NaN  \n",
       "19142  [\"http://img5a.flixcart.com/image/t-shirt/d/y/...             NaN  \n",
       "19148  [\"http://img5a.flixcart.com/image/t-shirt/6/9/...             NaN  \n",
       "19116  [\"http://img5a.flixcart.com/image/t-shirt/u/q/...             NaN  \n",
       "19093  [\"http://img5a.flixcart.com/image/t-shirt/c/j/...             NaN  \n",
       "19113  [\"http://img6a.flixcart.com/image/t-shirt/x/z/...             NaN  "
      ]
     },
     "execution_count": 345,
     "metadata": {},
     "output_type": "execute_result"
    }
   ],
   "source": [
    "item_name = \"dongli Printed Boy's Round Neck T-Shirt\"\n",
    "content_based_rec = content_based_recommendations(train_data, item_name, top_n=8)\n",
    "content_based_rec\n"
   ]
  },
  {
   "cell_type": "markdown",
   "id": "fe9d9d1c-e654-46fd-b65c-183f199342ed",
   "metadata": {},
   "source": [
    "# Collaborative Filtering (User Item Similarity)"
   ]
  },
  {
   "cell_type": "code",
   "execution_count": 362,
   "id": "469539fb-5c21-48be-ad2b-938947c3f2e1",
   "metadata": {},
   "outputs": [
    {
     "data": {
      "text/html": [
       "<div>\n",
       "<style scoped>\n",
       "    .dataframe tbody tr th:only-of-type {\n",
       "        vertical-align: middle;\n",
       "    }\n",
       "\n",
       "    .dataframe tbody tr th {\n",
       "        vertical-align: top;\n",
       "    }\n",
       "\n",
       "    .dataframe thead th {\n",
       "        text-align: right;\n",
       "    }\n",
       "</style>\n",
       "<table border=\"1\" class=\"dataframe\">\n",
       "  <thead>\n",
       "    <tr style=\"text-align: right;\">\n",
       "      <th></th>\n",
       "      <th>product_name</th>\n",
       "      <th>product_rating</th>\n",
       "      <th>brand</th>\n",
       "      <th>image</th>\n",
       "    </tr>\n",
       "  </thead>\n",
       "  <tbody>\n",
       "    <tr>\n",
       "      <th>10</th>\n",
       "      <td>Ladela Bellies</td>\n",
       "      <td>5.0</td>\n",
       "      <td>ladela</td>\n",
       "      <td>[\"http://img5a.flixcart.com/image/shoe/s/g/m/b...</td>\n",
       "    </tr>\n",
       "    <tr>\n",
       "      <th>27</th>\n",
       "      <td>Bulaky vanity case Jewellery Vanity Case</td>\n",
       "      <td>3.0</td>\n",
       "      <td>nan</td>\n",
       "      <td>[\"http://img6a.flixcart.com/image/vanity-box/8...</td>\n",
       "    </tr>\n",
       "    <tr>\n",
       "      <th>59</th>\n",
       "      <td>Roadster Men's Zipper Solid Cardigan</td>\n",
       "      <td>3.6</td>\n",
       "      <td>roadster</td>\n",
       "      <td>[\"http://img5a.flixcart.com/image/cardigan/e/q...</td>\n",
       "    </tr>\n",
       "    <tr>\n",
       "      <th>94</th>\n",
       "      <td>Camerii WM64 Elegance Analog Watch  - For Men,...</td>\n",
       "      <td>5.0</td>\n",
       "      <td>nan</td>\n",
       "      <td>[\"http://img5a.flixcart.com/image/watch/g/b/z/...</td>\n",
       "    </tr>\n",
       "    <tr>\n",
       "      <th>97</th>\n",
       "      <td>Colat COLAT_MW20 Sheen Analog Watch  - For Men...</td>\n",
       "      <td>5.0</td>\n",
       "      <td>nan</td>\n",
       "      <td>[\"http://img6a.flixcart.com/image/watch/q/g/a/...</td>\n",
       "    </tr>\n",
       "    <tr>\n",
       "      <th>100</th>\n",
       "      <td>Rorlig RR-028 Expedition Analog Watch  - For M...</td>\n",
       "      <td>5.0</td>\n",
       "      <td>nan</td>\n",
       "      <td>[\"http://img5a.flixcart.com/image/watch/j/a/r/...</td>\n",
       "    </tr>\n",
       "    <tr>\n",
       "      <th>117</th>\n",
       "      <td>Lyc White Casual Boots</td>\n",
       "      <td>5.0</td>\n",
       "      <td>nan</td>\n",
       "      <td>[\"http://img6a.flixcart.com/image/shoe/k/t/7/w...</td>\n",
       "    </tr>\n",
       "    <tr>\n",
       "      <th>126</th>\n",
       "      <td>Fluid DMF-002-GR01 Digital Watch  - For Boys</td>\n",
       "      <td>3.5</td>\n",
       "      <td>nan</td>\n",
       "      <td>[\"http://img5a.flixcart.com/image/watch/g/s/f/...</td>\n",
       "    </tr>\n",
       "    <tr>\n",
       "      <th>135</th>\n",
       "      <td>Bruno Manetti Cannelita Boots</td>\n",
       "      <td>4.4</td>\n",
       "      <td>nan</td>\n",
       "      <td>[\"http://img6a.flixcart.com/image/shoe/7/s/e/b...</td>\n",
       "    </tr>\n",
       "    <tr>\n",
       "      <th>143</th>\n",
       "      <td>Kool Kidz DMK-012-QU02 Analog Watch  - For Gir...</td>\n",
       "      <td>5.0</td>\n",
       "      <td>nan</td>\n",
       "      <td>[\"http://img5a.flixcart.com/image/watch/h/p/w/...</td>\n",
       "    </tr>\n",
       "  </tbody>\n",
       "</table>\n",
       "</div>"
      ],
      "text/plain": [
       "                                          product_name  product_rating  \\\n",
       "10                                      Ladela Bellies             5.0   \n",
       "27            Bulaky vanity case Jewellery Vanity Case             3.0   \n",
       "59                Roadster Men's Zipper Solid Cardigan             3.6   \n",
       "94   Camerii WM64 Elegance Analog Watch  - For Men,...             5.0   \n",
       "97   Colat COLAT_MW20 Sheen Analog Watch  - For Men...             5.0   \n",
       "100  Rorlig RR-028 Expedition Analog Watch  - For M...             5.0   \n",
       "117                             Lyc White Casual Boots             5.0   \n",
       "126       Fluid DMF-002-GR01 Digital Watch  - For Boys             3.5   \n",
       "135                      Bruno Manetti Cannelita Boots             4.4   \n",
       "143  Kool Kidz DMK-012-QU02 Analog Watch  - For Gir...             5.0   \n",
       "\n",
       "        brand                                              image  \n",
       "10     ladela  [\"http://img5a.flixcart.com/image/shoe/s/g/m/b...  \n",
       "27        nan  [\"http://img6a.flixcart.com/image/vanity-box/8...  \n",
       "59   roadster  [\"http://img5a.flixcart.com/image/cardigan/e/q...  \n",
       "94        nan  [\"http://img5a.flixcart.com/image/watch/g/b/z/...  \n",
       "97        nan  [\"http://img6a.flixcart.com/image/watch/q/g/a/...  \n",
       "100       nan  [\"http://img5a.flixcart.com/image/watch/j/a/r/...  \n",
       "117       nan  [\"http://img6a.flixcart.com/image/shoe/k/t/7/w...  \n",
       "126       nan  [\"http://img5a.flixcart.com/image/watch/g/s/f/...  \n",
       "135       nan  [\"http://img6a.flixcart.com/image/shoe/7/s/e/b...  \n",
       "143       nan  [\"http://img5a.flixcart.com/image/watch/h/p/w/...  "
      ]
     },
     "execution_count": 362,
     "metadata": {},
     "output_type": "execute_result"
    }
   ],
   "source": [
    "from sklearn.metrics.pairwise import cosine_similarity\n",
    "import pandas as pd\n",
    "\n",
    "# Step 1: Create the user-item interaction matrix\n",
    "user_item_matrix = train_data.pivot_table(\n",
    "    index='uniq_id',  # Use 'uniq_id' as the user identifier\n",
    "    columns='pid',  # Use 'pid' as the product identifier\n",
    "    values='product_rating',  # Use 'product_rating' for the rating value\n",
    "    aggfunc='mean'\n",
    ").fillna(0).astype(int)  # Replace NaN with 0 and convert to integer\n",
    "\n",
    "# Step 2: Calculate user similarity\n",
    "user_similarity = cosine_similarity(user_item_matrix)\n",
    "\n",
    "# Step 3: Select the target user\n",
    "target_user_id = 'fffe208fe08b938e4eda78727a99111d'  # Example user ID\n",
    "target_user_index = user_item_matrix.index.get_loc(target_user_id)\n",
    "\n",
    "# Step 4: Find similar users\n",
    "user_similarities = user_similarity[target_user_index]\n",
    "similar_user_indices = user_similarities.argsort()[::-1][1:]  # Exclude the target user\n",
    "\n",
    "# Step 5: Generate recommendations\n",
    "recommend_items = []\n",
    "\n",
    "for user_index in similar_user_indices:\n",
    "    rated_by_similar_user = user_item_matrix.iloc[user_index]\n",
    "    \n",
    "    # Select items that the target user has not rated and the similar user has rated (non-zero)\n",
    "    not_rated_by_target_user = user_item_matrix.iloc[target_user_index] == 0\n",
    "    rated_by_similar_user_nonzero = rated_by_similar_user > 0\n",
    "    \n",
    "    # Find items that the similar user has rated but the target user has not\n",
    "    recommended_for_target = user_item_matrix.columns[not_rated_by_target_user & rated_by_similar_user_nonzero]\n",
    "    \n",
    "    recommend_items.extend(recommended_for_target)  # Add these items to the list\n",
    "\n",
    "# Remove duplicates from the recommended items list\n",
    "recommend_items = list(set(recommend_items))\n",
    "\n",
    "# Step 6: Retrieve details for the recommended items from the original dataset\n",
    "recommended_items_details = train_data[train_data['pid'].isin(recommend_items)][\n",
    "    ['product_name', 'product_rating', 'brand', 'image']\n",
    "]\n",
    "\n",
    "# Display the top 10 recommended items\n",
    "recommended_items_details.head(10)\n"
   ]
  },
  {
   "cell_type": "markdown",
   "id": "59ff985c-7bf7-44a4-afa9-1aa08cc2f3d9",
   "metadata": {},
   "source": [
    "# Function That Recommend Items"
   ]
  },
  {
   "cell_type": "code",
   "execution_count": 363,
   "id": "4714d5a2-4bab-4a42-adaa-2278d7e09b27",
   "metadata": {},
   "outputs": [
    {
     "name": "stdout",
     "output_type": "stream",
     "text": [
      "Top 5 recommendations for User 01d9da713da7e1a802584308ce864dbc:\n"
     ]
    },
    {
     "data": {
      "text/html": [
       "<div>\n",
       "<style scoped>\n",
       "    .dataframe tbody tr th:only-of-type {\n",
       "        vertical-align: middle;\n",
       "    }\n",
       "\n",
       "    .dataframe tbody tr th {\n",
       "        vertical-align: top;\n",
       "    }\n",
       "\n",
       "    .dataframe thead th {\n",
       "        text-align: right;\n",
       "    }\n",
       "</style>\n",
       "<table border=\"1\" class=\"dataframe\">\n",
       "  <thead>\n",
       "    <tr style=\"text-align: right;\">\n",
       "      <th></th>\n",
       "      <th>product_name</th>\n",
       "      <th>product_rating</th>\n",
       "      <th>brand</th>\n",
       "      <th>image</th>\n",
       "    </tr>\n",
       "  </thead>\n",
       "  <tbody>\n",
       "    <tr>\n",
       "      <th>2599</th>\n",
       "      <td>Tia by Ten on Ten Velvetina Women's Push-up Bra</td>\n",
       "      <td>5.0</td>\n",
       "      <td>dark, pink</td>\n",
       "      <td>[\"http://img6a.flixcart.com/image/bra/9/d/8/br...</td>\n",
       "    </tr>\n",
       "    <tr>\n",
       "      <th>5053</th>\n",
       "      <td>Retina 1 Mobile Holder, 1 Car Charger, 1 USB C...</td>\n",
       "      <td>2.4</td>\n",
       "      <td>retina</td>\n",
       "      <td>[\"http://img5a.flixcart.com/image/automotive-c...</td>\n",
       "    </tr>\n",
       "    <tr>\n",
       "      <th>9213</th>\n",
       "      <td>Clovia Women's T-Shirt Bra</td>\n",
       "      <td>2.0</td>\n",
       "      <td>clovia</td>\n",
       "      <td>[\"http://img5a.flixcart.com/image/bra/u/y/m/br...</td>\n",
       "    </tr>\n",
       "    <tr>\n",
       "      <th>9305</th>\n",
       "      <td>Woly Smooth Leather Shoe Cream</td>\n",
       "      <td>4.0</td>\n",
       "      <td>woly</td>\n",
       "      <td>[\"http://img6a.flixcart.com/image/shoe-polish-...</td>\n",
       "    </tr>\n",
       "    <tr>\n",
       "      <th>12029</th>\n",
       "      <td>Mrigya Alloy Bangle Set</td>\n",
       "      <td>5.0</td>\n",
       "      <td>mrigya</td>\n",
       "      <td>[\"http://img5a.flixcart.com/image/bangle-brace...</td>\n",
       "    </tr>\n",
       "  </tbody>\n",
       "</table>\n",
       "</div>"
      ],
      "text/plain": [
       "                                            product_name  product_rating  \\\n",
       "2599     Tia by Ten on Ten Velvetina Women's Push-up Bra             5.0   \n",
       "5053   Retina 1 Mobile Holder, 1 Car Charger, 1 USB C...             2.4   \n",
       "9213                          Clovia Women's T-Shirt Bra             2.0   \n",
       "9305                      Woly Smooth Leather Shoe Cream             4.0   \n",
       "12029                            Mrigya Alloy Bangle Set             5.0   \n",
       "\n",
       "            brand                                              image  \n",
       "2599   dark, pink  [\"http://img6a.flixcart.com/image/bra/9/d/8/br...  \n",
       "5053       retina  [\"http://img5a.flixcart.com/image/automotive-c...  \n",
       "9213       clovia  [\"http://img5a.flixcart.com/image/bra/u/y/m/br...  \n",
       "9305         woly  [\"http://img6a.flixcart.com/image/shoe-polish-...  \n",
       "12029      mrigya  [\"http://img5a.flixcart.com/image/bangle-brace...  "
      ]
     },
     "execution_count": 363,
     "metadata": {},
     "output_type": "execute_result"
    }
   ],
   "source": [
    "from sklearn.metrics.pairwise import cosine_similarity\n",
    "\n",
    "def collaborative_filtering_recommendations(train_data, target_user_id, top_n=10):\n",
    "    # Create the user-item matrix\n",
    "    user_item_matrix = train_data.pivot_table(index='uniq_id', columns='pid', values='product_rating', aggfunc='mean').fillna(0)\n",
    "\n",
    "    # Calculate the user similarity matrix using cosine similarity\n",
    "    user_similarity = cosine_similarity(user_item_matrix)\n",
    "\n",
    "    # Find the index of the target user in the matrix\n",
    "    target_user_index = user_item_matrix.index.get_loc(target_user_id)\n",
    "\n",
    "    # Get the similarity scores for the target user\n",
    "    user_similarities = user_similarity[target_user_index]\n",
    "\n",
    "    # Sort the users by similarity in descending order (excluding the target user)\n",
    "    similar_users_indices = user_similarities.argsort()[::-1][1:]\n",
    "\n",
    "    # Generate recommendations based on similar users\n",
    "    recommended_items = set()  # Use a set to avoid duplicates\n",
    "\n",
    "    for user_index in similar_users_indices:\n",
    "        # Get items rated by the similar user\n",
    "        rated_by_similar_user = user_item_matrix.iloc[user_index]\n",
    "        \n",
    "        # Get items that the target user has not rated (i.e., ratings are zero)\n",
    "        not_rated_by_target_user = user_item_matrix.iloc[target_user_index] == 0\n",
    "        \n",
    "        # Select items that the similar user has rated but the target user hasn't\n",
    "        recommended_for_target = user_item_matrix.columns[not_rated_by_target_user & (rated_by_similar_user > 0)]\n",
    "        \n",
    "        # Add recommended items to the list\n",
    "        recommended_items.update(recommended_for_target)\n",
    "\n",
    "        # If we've already found top_n recommendations, break the loop early\n",
    "        if len(recommended_items) >= top_n:\n",
    "            break\n",
    "\n",
    "    # Get the details of recommended items (top_n)\n",
    "    recommended_items_details = train_data[train_data['pid'].isin(recommended_items)][['product_name', 'product_rating', 'brand', 'image']]\n",
    "\n",
    "    return recommended_items_details.head(top_n)\n",
    "\n",
    "# Example usage\n",
    "target_user_id = '01d9da713da7e1a802584308ce864dbc'\n",
    "top_n = 5\n",
    "collaborative_filtering_rec = collaborative_filtering_recommendations(train_data, target_user_id, top_n)\n",
    "print(f\"Top {top_n} recommendations for User {target_user_id}:\")\n",
    "collaborative_filtering_rec\n"
   ]
  },
  {
   "cell_type": "code",
   "execution_count": 359,
   "id": "b58437d7",
   "metadata": {},
   "outputs": [
    {
     "name": "stdout",
     "output_type": "stream",
     "text": [
      "Index(['00234f1417b5b1dc65feb088cf612762', '00653f0da0f333b3bee1d2613faed2cb',\n",
      "       '0072836d8c9195a016594f048b1f2350', '00b19f664f4de4ff19217cfe21a7b76b',\n",
      "       '00da8b6e9899a64af4e7741ed5673235', '00f713ac460e7e07e8aba53ee9ef3b47',\n",
      "       '0105fd81ac871025ff871cab9b7432c6', '01c0af8e7d7dd5e1ecce4bd6757cda35',\n",
      "       '01cb30b78958b557b2d0dda7e986e35a', '01d9da713da7e1a802584308ce864dbc',\n",
      "       ...\n",
      "       'fe1c2b98ac57efe05a4dc6ad37bbc17b', 'fe33a73ffd9ee55b85267bcf48dba177',\n",
      "       'fe5577dfed7e7785d5ec3abb147bb704', 'fe9f7069c8a82c0fb64c411ecbd3fa8d',\n",
      "       'fecc8c2cf5f7aff6faed7a7c1d9819b3', 'feda6ab49988f9f0f4be43a365378ffd',\n",
      "       'ff3318689e59386545c9bd6cc8369671', 'ff3c718e1fd20c5155005ecdf1d3f759',\n",
      "       'ffd3444175f6966c70a0a686c389453a', 'fffe208fe08b938e4eda78727a99111d'],\n",
      "      dtype='object', name='uniq_id', length=1849)\n"
     ]
    }
   ],
   "source": [
    "print(user_item_matrix.index)"
   ]
  },
  {
   "cell_type": "markdown",
   "id": "ec187565-7789-4fba-94b0-13a4688f1db0",
   "metadata": {},
   "source": [
    "# Hybrid Recommendations"
   ]
  },
  {
   "cell_type": "code",
   "execution_count": 366,
   "id": "a5e9b0ff-30c0-42e1-b0eb-a4dc75cee506",
   "metadata": {},
   "outputs": [
    {
     "name": "stdout",
     "output_type": "stream",
     "text": [
      "Top 10 Hybrid Recommendations for User ff3318689e59386545c9bd6cc8369671 and Item 'Petrol PCBBL67 Analog Watch  - For Men':\n"
     ]
    },
    {
     "data": {
      "text/html": [
       "<div>\n",
       "<style scoped>\n",
       "    .dataframe tbody tr th:only-of-type {\n",
       "        vertical-align: middle;\n",
       "    }\n",
       "\n",
       "    .dataframe tbody tr th {\n",
       "        vertical-align: top;\n",
       "    }\n",
       "\n",
       "    .dataframe thead th {\n",
       "        text-align: right;\n",
       "    }\n",
       "</style>\n",
       "<table border=\"1\" class=\"dataframe\">\n",
       "  <thead>\n",
       "    <tr style=\"text-align: right;\">\n",
       "      <th></th>\n",
       "      <th>product_name</th>\n",
       "      <th>brand</th>\n",
       "      <th>image</th>\n",
       "      <th>product_rating</th>\n",
       "    </tr>\n",
       "  </thead>\n",
       "  <tbody>\n",
       "    <tr>\n",
       "      <th>8721</th>\n",
       "      <td>Petrol PFWBL60 Analog Watch  - For Men</td>\n",
       "      <td>nan</td>\n",
       "      <td>[\"http://img5a.flixcart.com/image/watch/x/d/p/...</td>\n",
       "      <td>2.0</td>\n",
       "    </tr>\n",
       "    <tr>\n",
       "      <th>8852</th>\n",
       "      <td>Petrol PCWBL68 Analog Watch  - For Men</td>\n",
       "      <td>nan</td>\n",
       "      <td>[\"http://img6a.flixcart.com/image/watch/j/c/n/...</td>\n",
       "      <td>3.5</td>\n",
       "    </tr>\n",
       "    <tr>\n",
       "      <th>8911</th>\n",
       "      <td>Petrol RPWF01 Analog Watch  - For Men</td>\n",
       "      <td>nan</td>\n",
       "      <td>[\"http://img5a.flixcart.com/image/watch/j/w/x/...</td>\n",
       "      <td>NaN</td>\n",
       "    </tr>\n",
       "    <tr>\n",
       "      <th>8879</th>\n",
       "      <td>Petrol PMW93W2 Analog Watch  - For Men</td>\n",
       "      <td>nan</td>\n",
       "      <td>[\"http://img5a.flixcart.com/image/watch/u/4/v/...</td>\n",
       "      <td>NaN</td>\n",
       "    </tr>\n",
       "    <tr>\n",
       "      <th>9004</th>\n",
       "      <td>Petrol PMW93B4 Analog Watch  - For Men</td>\n",
       "      <td>nan</td>\n",
       "      <td>[\"http://img5a.flixcart.com/image/watch/j/n/7/...</td>\n",
       "      <td>NaN</td>\n",
       "    </tr>\n",
       "    <tr>\n",
       "      <th>15095</th>\n",
       "      <td>R.S D&amp;G16 Analog Watch  - For Men</td>\n",
       "      <td>nan</td>\n",
       "      <td>[\"http://img6a.flixcart.com/image/watch/w/d/u/...</td>\n",
       "      <td>NaN</td>\n",
       "    </tr>\n",
       "    <tr>\n",
       "      <th>285</th>\n",
       "      <td>D'Signer 681GM_WHT Analog Watch  - For Men, Boys</td>\n",
       "      <td>nan</td>\n",
       "      <td>[\"http://img6a.flixcart.com/image/watch/q/m/s/...</td>\n",
       "      <td>NaN</td>\n",
       "    </tr>\n",
       "    <tr>\n",
       "      <th>8570</th>\n",
       "      <td>Sonata Everyday Analog Watch - For Men</td>\n",
       "      <td>nan</td>\n",
       "      <td>[\"http://img6a.flixcart.com/image/watch/z/h/8/...</td>\n",
       "      <td>4.3</td>\n",
       "    </tr>\n",
       "    <tr>\n",
       "      <th>8589</th>\n",
       "      <td>Nexus NX_7668 Analog Watch  - For Men</td>\n",
       "      <td>nan</td>\n",
       "      <td>[\"http://img6a.flixcart.com/image/watch/b/n/v/...</td>\n",
       "      <td>NaN</td>\n",
       "    </tr>\n",
       "    <tr>\n",
       "      <th>9014</th>\n",
       "      <td>Sonata Everyday Analog Watch - For Women</td>\n",
       "      <td>nan</td>\n",
       "      <td>[\"http://img6a.flixcart.com/image/watch/b/r/3/...</td>\n",
       "      <td>3.5</td>\n",
       "    </tr>\n",
       "  </tbody>\n",
       "</table>\n",
       "</div>"
      ],
      "text/plain": [
       "                                           product_name brand  \\\n",
       "8721             Petrol PFWBL60 Analog Watch  - For Men   nan   \n",
       "8852             Petrol PCWBL68 Analog Watch  - For Men   nan   \n",
       "8911              Petrol RPWF01 Analog Watch  - For Men   nan   \n",
       "8879             Petrol PMW93W2 Analog Watch  - For Men   nan   \n",
       "9004             Petrol PMW93B4 Analog Watch  - For Men   nan   \n",
       "15095                 R.S D&G16 Analog Watch  - For Men   nan   \n",
       "285    D'Signer 681GM_WHT Analog Watch  - For Men, Boys   nan   \n",
       "8570             Sonata Everyday Analog Watch - For Men   nan   \n",
       "8589              Nexus NX_7668 Analog Watch  - For Men   nan   \n",
       "9014           Sonata Everyday Analog Watch - For Women   nan   \n",
       "\n",
       "                                                   image  product_rating  \n",
       "8721   [\"http://img5a.flixcart.com/image/watch/x/d/p/...             2.0  \n",
       "8852   [\"http://img6a.flixcart.com/image/watch/j/c/n/...             3.5  \n",
       "8911   [\"http://img5a.flixcart.com/image/watch/j/w/x/...             NaN  \n",
       "8879   [\"http://img5a.flixcart.com/image/watch/u/4/v/...             NaN  \n",
       "9004   [\"http://img5a.flixcart.com/image/watch/j/n/7/...             NaN  \n",
       "15095  [\"http://img6a.flixcart.com/image/watch/w/d/u/...             NaN  \n",
       "285    [\"http://img6a.flixcart.com/image/watch/q/m/s/...             NaN  \n",
       "8570   [\"http://img6a.flixcart.com/image/watch/z/h/8/...             4.3  \n",
       "8589   [\"http://img6a.flixcart.com/image/watch/b/n/v/...             NaN  \n",
       "9014   [\"http://img6a.flixcart.com/image/watch/b/r/3/...             3.5  "
      ]
     },
     "execution_count": 366,
     "metadata": {},
     "output_type": "execute_result"
    }
   ],
   "source": [
    "# Assuming content_based_recommendations and collaborative_filtering_recommendations are defined\n",
    "\n",
    "def hybrid_recommendations(train_data, target_user_id, item_name, top_n=10):\n",
    "    # Get content-based recommendations\n",
    "    content_based_rec = content_based_recommendations(train_data, item_name, top_n)\n",
    "    \n",
    "    # Get collaborative filtering recommendations\n",
    "    collaborative_filtering_rec = collaborative_filtering_recommendations(train_data, target_user_id, top_n)\n",
    "    \n",
    "    # Merge and deduplicate the recommendations\n",
    "    hybrid_rec = pd.concat([content_based_rec, collaborative_filtering_rec]).drop_duplicates(subset=['product_name'])\n",
    "    \n",
    "    return hybrid_rec.head(top_n)  # Limit to top N recommendations\n",
    "\n",
    "# Example usage:\n",
    "target_user_id = 'ff3318689e59386545c9bd6cc8369671'  # User ID for which recommendations are made\n",
    "item_name = \"Petrol PCBBL67 Analog Watch  - For Men\"  # The item name\n",
    "top_n = 10  # Number of top recommendations to return\n",
    "\n",
    "hybrid_rec = hybrid_recommendations(train_data, target_user_id, item_name, top_n)\n",
    "\n",
    "print(f\"Top {top_n} Hybrid Recommendations for User {target_user_id} and Item '{item_name}':\")\n",
    "hybrid_rec\n"
   ]
  },
  {
   "cell_type": "code",
   "execution_count": 367,
   "id": "1c4f0708-ec35-4583-91cc-d30443a01324",
   "metadata": {},
   "outputs": [
    {
     "name": "stdout",
     "output_type": "stream",
     "text": [
      "Item 'Desert Eshop Real Antique Brass Royal 3 Minute Sand Timer 281 Showpiece - 7 cm' not found in the training data.\n",
      "Top 10 Hybrid Recommendations for User fe1c2b98ac57efe05a4dc6ad37bbc17b and Item 'Desert Eshop Real Antique Brass Royal 3 Minute Sand Timer 281 Showpiece - 7 cm':\n"
     ]
    },
    {
     "data": {
      "text/html": [
       "<div>\n",
       "<style scoped>\n",
       "    .dataframe tbody tr th:only-of-type {\n",
       "        vertical-align: middle;\n",
       "    }\n",
       "\n",
       "    .dataframe tbody tr th {\n",
       "        vertical-align: top;\n",
       "    }\n",
       "\n",
       "    .dataframe thead th {\n",
       "        text-align: right;\n",
       "    }\n",
       "</style>\n",
       "<table border=\"1\" class=\"dataframe\">\n",
       "  <thead>\n",
       "    <tr style=\"text-align: right;\">\n",
       "      <th></th>\n",
       "      <th>product_name</th>\n",
       "      <th>product_rating</th>\n",
       "      <th>brand</th>\n",
       "      <th>image</th>\n",
       "    </tr>\n",
       "  </thead>\n",
       "  <tbody>\n",
       "    <tr>\n",
       "      <th>2599</th>\n",
       "      <td>Tia by Ten on Ten Velvetina Women's Push-up Bra</td>\n",
       "      <td>5.0</td>\n",
       "      <td>dark, pink</td>\n",
       "      <td>[\"http://img6a.flixcart.com/image/bra/9/d/8/br...</td>\n",
       "    </tr>\n",
       "    <tr>\n",
       "      <th>3251</th>\n",
       "      <td>Xerobic 75 cm Gym Ball</td>\n",
       "      <td>5.0</td>\n",
       "      <td>xerobic</td>\n",
       "      <td>[\"http://img5a.flixcart.com/image/ball/s/w/b/6...</td>\n",
       "    </tr>\n",
       "    <tr>\n",
       "      <th>5053</th>\n",
       "      <td>Retina 1 Mobile Holder, 1 Car Charger, 1 USB C...</td>\n",
       "      <td>2.4</td>\n",
       "      <td>retina</td>\n",
       "      <td>[\"http://img5a.flixcart.com/image/automotive-c...</td>\n",
       "    </tr>\n",
       "    <tr>\n",
       "      <th>5729</th>\n",
       "      <td>Monet Passport Gift Set  Combo Set</td>\n",
       "      <td>3.0</td>\n",
       "      <td>nan</td>\n",
       "      <td>[\"http://img5a.flixcart.com/image/combo-gift-s...</td>\n",
       "    </tr>\n",
       "    <tr>\n",
       "      <th>6887</th>\n",
       "      <td>French Factor Man of the Year Deodorant Gift S...</td>\n",
       "      <td>4.5</td>\n",
       "      <td>nan</td>\n",
       "      <td>[\"http://img5a.flixcart.com/image/combo-gift-s...</td>\n",
       "    </tr>\n",
       "    <tr>\n",
       "      <th>9213</th>\n",
       "      <td>Clovia Women's T-Shirt Bra</td>\n",
       "      <td>2.0</td>\n",
       "      <td>clovia</td>\n",
       "      <td>[\"http://img5a.flixcart.com/image/bra/u/y/m/br...</td>\n",
       "    </tr>\n",
       "    <tr>\n",
       "      <th>9305</th>\n",
       "      <td>Woly Smooth Leather Shoe Cream</td>\n",
       "      <td>4.0</td>\n",
       "      <td>woly</td>\n",
       "      <td>[\"http://img6a.flixcart.com/image/shoe-polish-...</td>\n",
       "    </tr>\n",
       "    <tr>\n",
       "      <th>11826</th>\n",
       "      <td>Karishma Women's Solid Formal Shirt</td>\n",
       "      <td>5.0</td>\n",
       "      <td>nan</td>\n",
       "      <td>[\"http://img6a.flixcart.com/image/shirt/g/c/s/...</td>\n",
       "    </tr>\n",
       "    <tr>\n",
       "      <th>12029</th>\n",
       "      <td>Mrigya Alloy Bangle Set</td>\n",
       "      <td>5.0</td>\n",
       "      <td>mrigya</td>\n",
       "      <td>[\"http://img5a.flixcart.com/image/bangle-brace...</td>\n",
       "    </tr>\n",
       "    <tr>\n",
       "      <th>13255</th>\n",
       "      <td>Rock Flip Cover for Apple iPad Mini Retina</td>\n",
       "      <td>4.3</td>\n",
       "      <td>rock</td>\n",
       "      <td>[\"http://img5a.flixcart.com/image/cases-covers...</td>\n",
       "    </tr>\n",
       "  </tbody>\n",
       "</table>\n",
       "</div>"
      ],
      "text/plain": [
       "                                            product_name  product_rating  \\\n",
       "2599     Tia by Ten on Ten Velvetina Women's Push-up Bra             5.0   \n",
       "3251                              Xerobic 75 cm Gym Ball             5.0   \n",
       "5053   Retina 1 Mobile Holder, 1 Car Charger, 1 USB C...             2.4   \n",
       "5729                  Monet Passport Gift Set  Combo Set             3.0   \n",
       "6887   French Factor Man of the Year Deodorant Gift S...             4.5   \n",
       "9213                          Clovia Women's T-Shirt Bra             2.0   \n",
       "9305                      Woly Smooth Leather Shoe Cream             4.0   \n",
       "11826                Karishma Women's Solid Formal Shirt             5.0   \n",
       "12029                            Mrigya Alloy Bangle Set             5.0   \n",
       "13255         Rock Flip Cover for Apple iPad Mini Retina             4.3   \n",
       "\n",
       "            brand                                              image  \n",
       "2599   dark, pink  [\"http://img6a.flixcart.com/image/bra/9/d/8/br...  \n",
       "3251      xerobic  [\"http://img5a.flixcart.com/image/ball/s/w/b/6...  \n",
       "5053       retina  [\"http://img5a.flixcart.com/image/automotive-c...  \n",
       "5729          nan  [\"http://img5a.flixcart.com/image/combo-gift-s...  \n",
       "6887          nan  [\"http://img5a.flixcart.com/image/combo-gift-s...  \n",
       "9213       clovia  [\"http://img5a.flixcart.com/image/bra/u/y/m/br...  \n",
       "9305         woly  [\"http://img6a.flixcart.com/image/shoe-polish-...  \n",
       "11826         nan  [\"http://img6a.flixcart.com/image/shirt/g/c/s/...  \n",
       "12029      mrigya  [\"http://img5a.flixcart.com/image/bangle-brace...  \n",
       "13255        rock  [\"http://img5a.flixcart.com/image/cases-covers...  "
      ]
     },
     "execution_count": 367,
     "metadata": {},
     "output_type": "execute_result"
    }
   ],
   "source": [
    "# Example usage: Get hybrid recommendations for a specific user and item\n",
    "target_user_id = 'fe1c2b98ac57efe05a4dc6ad37bbc17b'  # The user_id for which recommendations are made\n",
    "item_name = \"Desert Eshop Real Antique Brass Royal 3 Minute Sand Timer 281 Showpiece - 7 cm\"  # The item name\n",
    "top_n = 10  # Number of top recommendations to return\n",
    "\n",
    "# Call the hybrid recommendation function\n",
    "hybrid_rec = hybrid_recommendations(train_data, target_user_id, item_name, top_n)\n",
    "\n",
    "# Display the top 10 hybrid recommendations\n",
    "print(f\"Top {top_n} Hybrid Recommendations for User {target_user_id} and Item '{item_name}':\")\n",
    "hybrid_rec\n"
   ]
  },
  {
   "cell_type": "code",
   "execution_count": 368,
   "id": "c8faeeea-a9cb-4341-be0a-9c1dda6311ee",
   "metadata": {},
   "outputs": [
    {
     "name": "stdout",
     "output_type": "stream",
     "text": [
      "Top 5 Hybrid Recommendations for User 01c0af8e7d7dd5e1ecce4bd6757cda35 and Item 'JJC LH-112  Lens Hood':\n"
     ]
    },
    {
     "data": {
      "text/html": [
       "<div>\n",
       "<style scoped>\n",
       "    .dataframe tbody tr th:only-of-type {\n",
       "        vertical-align: middle;\n",
       "    }\n",
       "\n",
       "    .dataframe tbody tr th {\n",
       "        vertical-align: top;\n",
       "    }\n",
       "\n",
       "    .dataframe thead th {\n",
       "        text-align: right;\n",
       "    }\n",
       "</style>\n",
       "<table border=\"1\" class=\"dataframe\">\n",
       "  <thead>\n",
       "    <tr style=\"text-align: right;\">\n",
       "      <th></th>\n",
       "      <th>product_name</th>\n",
       "      <th>brand</th>\n",
       "      <th>image</th>\n",
       "      <th>product_rating</th>\n",
       "    </tr>\n",
       "  </thead>\n",
       "  <tbody>\n",
       "    <tr>\n",
       "      <th>15803</th>\n",
       "      <td>JJC LH-86  Lens Hood</td>\n",
       "      <td>jjc</td>\n",
       "      <td>[\"http://img5a.flixcart.com/image/lens-hood/fi...</td>\n",
       "      <td>NaN</td>\n",
       "    </tr>\n",
       "    <tr>\n",
       "      <th>15819</th>\n",
       "      <td>JJC LH-54  Lens Hood</td>\n",
       "      <td>jjc</td>\n",
       "      <td>[\"http://img6a.flixcart.com/image/lens-hood/x/...</td>\n",
       "      <td>NaN</td>\n",
       "    </tr>\n",
       "    <tr>\n",
       "      <th>15910</th>\n",
       "      <td>JJC LH-112  Lens Hood</td>\n",
       "      <td>jjc</td>\n",
       "      <td>[\"http://img6a.flixcart.com/image/lens-hood/p/...</td>\n",
       "      <td>2.5</td>\n",
       "    </tr>\n",
       "    <tr>\n",
       "      <th>15911</th>\n",
       "      <td>JJC LH-88C  Lens Hood</td>\n",
       "      <td>jjc</td>\n",
       "      <td>[\"http://img6a.flixcart.com/image/lens-hood/fi...</td>\n",
       "      <td>NaN</td>\n",
       "    </tr>\n",
       "    <tr>\n",
       "      <th>15955</th>\n",
       "      <td>JJC LH-83F  Lens Hood</td>\n",
       "      <td>jjc</td>\n",
       "      <td>[\"http://img6a.flixcart.com/image/lens-hood/fi...</td>\n",
       "      <td>4.0</td>\n",
       "    </tr>\n",
       "  </tbody>\n",
       "</table>\n",
       "</div>"
      ],
      "text/plain": [
       "                product_name brand  \\\n",
       "15803   JJC LH-86  Lens Hood   jjc   \n",
       "15819   JJC LH-54  Lens Hood   jjc   \n",
       "15910  JJC LH-112  Lens Hood   jjc   \n",
       "15911  JJC LH-88C  Lens Hood   jjc   \n",
       "15955  JJC LH-83F  Lens Hood   jjc   \n",
       "\n",
       "                                                   image  product_rating  \n",
       "15803  [\"http://img5a.flixcart.com/image/lens-hood/fi...             NaN  \n",
       "15819  [\"http://img6a.flixcart.com/image/lens-hood/x/...             NaN  \n",
       "15910  [\"http://img6a.flixcart.com/image/lens-hood/p/...             2.5  \n",
       "15911  [\"http://img6a.flixcart.com/image/lens-hood/fi...             NaN  \n",
       "15955  [\"http://img6a.flixcart.com/image/lens-hood/fi...             4.0  "
      ]
     },
     "execution_count": 368,
     "metadata": {},
     "output_type": "execute_result"
    }
   ],
   "source": [
    "# Example usage: Get hybrid recommendations for a specific user and item\n",
    "target_user_id = '01c0af8e7d7dd5e1ecce4bd6757cda35' # Change this to the user_id you want recommendations for\n",
    "item_name = 'JJC LH-112  Lens Hood'\n",
    "hybrid_rec = hybrid_recommendations(train_data,target_user_id, item_name, top_n=5)\n",
    "print(f\"Top 5 Hybrid Recommendations for User {target_user_id} and Item '{item_name}':\")\n",
    "hybrid_rec"
   ]
  },
  {
   "cell_type": "markdown",
   "id": "4d162b10-3aea-45ab-a7c1-3751221d0420",
   "metadata": {},
   "source": [
    "# Finding Accuracy of Algorithms "
   ]
  },
  {
   "cell_type": "code",
   "execution_count": 372,
   "id": "882fa33c-b328-40cb-af7b-2269c25937a9",
   "metadata": {},
   "outputs": [],
   "source": [
    "import numpy as np\n",
    "import matplotlib.pyplot as plt\n",
    "from sklearn.metrics import mean_absolute_error, mean_squared_error\n",
    "from math import sqrt\n",
    "\n",
    "def evaluate_and_plot(y_actual, y_predicted, algorithm_name):\n",
    "    \"\"\"\n",
    "    Calculate MAE and RMSE, and plot Actual vs Predicted ratings.\n",
    "    \n",
    "    :param y_actual: Actual ratings\n",
    "    :param y_predicted: Predicted ratings\n",
    "    :param algorithm_name: Name of the algorithm\n",
    "    \"\"\"\n",
    "    # Calculate MAE and RMSE\n",
    "    mae = mean_absolute_error(y_actual, y_predicted)\n",
    "    rmse = sqrt(mean_squared_error(y_actual, y_predicted))\n",
    "\n",
    "    # Plot Actual vs Predicted ratings\n",
    "    plt.figure(figsize=(6, 4))\n",
    "    \n",
    "    # Scatter plot for actual vs predicted ratings\n",
    "    plt.scatter(y_actual, y_predicted, alpha=0.5, color='blue')\n",
    "    \n",
    "    # Create a perfect prediction line starting from the left side\n",
    "    x_min, x_max = min(y_actual), max(y_actual)\n",
    "    plt.plot([x_min, x_max], [x_min, x_max], 'r--', label='Perfect Prediction')  # Line y=x\n",
    "    \n",
    "    # Dotted lines connecting actual to predicted values\n",
    "    for i in range(len(y_actual)):\n",
    "        plt.plot([y_actual[i], y_actual[i]], [y_predicted[i], y_actual[i]], color='gray', linestyle='dotted')\n",
    "\n",
    "    # Labels and title\n",
    "    plt.xlabel(\"Actual Ratings\")\n",
    "    plt.ylabel(\"Predicted Ratings\")\n",
    "    plt.title(f\"{algorithm_name}: Actual vs. Predicted Ratings\")\n",
    "    plt.text(max(y_actual), min(y_predicted), \n",
    "             f'MAE: {mae:.3f}\\nRMSE: {rmse:.3f}', \n",
    "             fontsize=12, verticalalignment='bottom', horizontalalignment='right', color='green')\n",
    "    plt.legend()\n",
    "    plt.tight_layout()\n",
    "    plt.show()\n",
    "\n",
    "    # Return MAE and RMSE\n",
    "    return mae, rmse\n"
   ]
  },
  {
   "cell_type": "markdown",
   "id": "875274a9-066f-45a4-8766-c0e75044fc08",
   "metadata": {},
   "source": [
    "# 1.Rating Based Recommendations"
   ]
  },
  {
   "cell_type": "code",
   "execution_count": 373,
   "id": "52b5d59b-fdab-4ea8-bfae-c4afd334b59f",
   "metadata": {},
   "outputs": [
    {
     "name": "stdout",
     "output_type": "stream",
     "text": [
      "MAE (Rating Algorithm): 0.1375\n",
      "RMSE (Rating Algorithm): 0.16955824957813173\n"
     ]
    },
    {
     "data": {
      "image/png": "[encoded data removed]",
      "text/plain": [
       "<Figure size 600x400 with 1 Axes>"
      ]
     },
     "metadata": {},
     "output_type": "display_data"
    }
   ],
   "source": [
    "# Actual and predicted ratings for the Rating algorithm (use your actual data here)\n",
    "y_actual_rating = np.array([4, 5, 3, 2, 5, 4, 4, 3])  # Actual ratings\n",
    "y_predicted_rating = np.array([4.1, 4.8, 3.2, 2.3, 5.0, 4.2, 4.0, 3.1])  # Predicted ratings\n",
    "\n",
    "# Calculate accuracy (MAE and RMSE)\n",
    "mae_rating, rmse_rating = calculate_accuracy(y_actual_rating, y_predicted_rating)\n",
    "\n",
    "# Print MAE and RMSE\n",
    "print(f\"MAE (Rating Algorithm): {mae_rating}\")\n",
    "print(f\"RMSE (Rating Algorithm): {rmse_rating}\")\n",
    "\n",
    "# Plot Actual vs Predicted for Rating Algorithm\n",
    "plot_actual_vs_predicted(y_actual_rating, y_predicted_rating, \"Rating Algorithm\", mae_rating, rmse_rating)\n"
   ]
  },
  {
   "cell_type": "markdown",
   "id": "71546ed3-0ca8-4997-b256-72c2a7aa7d10",
   "metadata": {},
   "source": [
    "# 2.Content-Base Recommendation"
   ]
  },
  {
   "cell_type": "code",
   "execution_count": 374,
   "id": "22111641-bbf5-46d9-9866-d08f4f4040b1",
   "metadata": {},
   "outputs": [
    {
     "name": "stdout",
     "output_type": "stream",
     "text": [
      "MAE (Content-based Filtering): 0.21249999999999997\n",
      "RMSE (Content-based Filtering): 0.24748737341529164\n"
     ]
    },
    {
     "data": {
      "image/png": "[encoded data removed]",
      "text/plain": [
       "<Figure size 600x400 with 1 Axes>"
      ]
     },
     "metadata": {},
     "output_type": "display_data"
    }
   ],
   "source": [
    "# Actual and predicted ratings for Content-based Filtering (use your actual data here)\n",
    "y_actual_content = np.array([5, 3, 4, 4, 2, 5, 3, 4])  # Actual ratings for content-based filtering\n",
    "y_predicted_content = np.array([4.9, 3.1, 3.8, 4.2, 2.5, 4.7, 3.2, 4.1])  # Predicted ratings for content-based filtering\n",
    "\n",
    "# Calculate accuracy (MAE and RMSE) for content-based filtering\n",
    "mae_content, rmse_content = calculate_accuracy(y_actual_content, y_predicted_content)\n",
    "\n",
    "# Print MAE and RMSE for content-based filtering\n",
    "print(f\"MAE (Content-based Filtering): {mae_content}\")\n",
    "print(f\"RMSE (Content-based Filtering): {rmse_content}\")\n",
    "\n",
    "# Plot Actual vs Predicted for Content-based Filtering\n",
    "plot_actual_vs_predicted(y_actual_content, y_predicted_content, \"Content-based Filtering\", mae_content, rmse_content)\n"
   ]
  },
  {
   "cell_type": "markdown",
   "id": "3afee32c-ebfc-4f54-a650-a45e237c1f9d",
   "metadata": {},
   "source": [
    "# 3.Collaborative filtering "
   ]
  },
  {
   "cell_type": "code",
   "execution_count": 375,
   "id": "d4595a72-67a4-4317-a287-74c363ef6115",
   "metadata": {},
   "outputs": [
    {
     "name": "stdout",
     "output_type": "stream",
     "text": [
      "MAE (Collaborative Filtering): 0.16249999999999992\n",
      "RMSE (Collaborative Filtering): 0.19039432764659764\n"
     ]
    },
    {
     "data": {
      "image/png": "[encoded data removed]",
      "text/plain": [
       "<Figure size 600x400 with 1 Axes>"
      ]
     },
     "metadata": {},
     "output_type": "display_data"
    }
   ],
   "source": [
    "# Actual and predicted ratings for Collaborative Filtering (use your actual data here)\n",
    "y_actual_collab = np.array([4, 4, 5, 3, 2, 4, 3, 5])  # Actual ratings for collaborative filtering\n",
    "y_predicted_collab = np.array([4.2, 3.9, 5.1, 2.8, 2.3, 4.0, 3.3, 4.9])  # Predicted ratings for collaborative filtering\n",
    "\n",
    "# Calculate accuracy (MAE and RMSE) for collaborative filtering\n",
    "mae_collab, rmse_collab = calculate_accuracy(y_actual_collab, y_predicted_collab)\n",
    "\n",
    "# Print MAE and RMSE for collaborative filtering\n",
    "print(f\"MAE (Collaborative Filtering): {mae_collab}\")\n",
    "print(f\"RMSE (Collaborative Filtering): {rmse_collab}\")\n",
    "\n",
    "# Plot Actual vs Predicted for Collaborative Filtering\n",
    "plot_actual_vs_predicted(y_actual_collab, y_predicted_collab, \"Collaborative Filtering\", mae_collab, rmse_collab)\n"
   ]
  },
  {
   "cell_type": "markdown",
   "id": "597c2c54-9c80-4268-b18e-b1914da1a0c1",
   "metadata": {},
   "source": [
    "# 4.Hybrid Recommendation "
   ]
  },
  {
   "cell_type": "code",
   "execution_count": 376,
   "id": "cf96b477-d1c6-4734-9218-32eac53d2343",
   "metadata": {},
   "outputs": [
    {
     "name": "stdout",
     "output_type": "stream",
     "text": [
      "MAE (Hybrid Recommendation): 0.1375\n",
      "RMSE (Hybrid Recommendation): 0.16955824957813173\n"
     ]
    },
    {
     "data": {
      "image/png": "[encoded data removed]",
      "text/plain": [
       "<Figure size 600x400 with 1 Axes>"
      ]
     },
     "metadata": {},
     "output_type": "display_data"
    }
   ],
   "source": [
    "# Example Actual and Predicted ratings for the Hybrid Recommendation system (use your actual data here)\n",
    "# This should be the ratings from your combined content-based and collaborative filtering model\n",
    "y_actual_hybrid = np.array([4, 5, 3, 2, 5, 4, 4, 3])  # Actual ratings from your data\n",
    "y_predicted_hybrid = np.array([4.1, 4.8, 3.2, 2.3, 5.0, 4.2, 4.0, 3.1])  # Predicted ratings from Hybrid Model\n",
    "\n",
    "# Calculate accuracy (MAE and RMSE) for Hybrid Recommendations\n",
    "mae_hybrid, rmse_hybrid = calculate_accuracy(y_actual_hybrid, y_predicted_hybrid)\n",
    "\n",
    "# Print MAE and RMSE for Hybrid Recommendations\n",
    "print(f\"MAE (Hybrid Recommendation): {mae_hybrid}\")\n",
    "print(f\"RMSE (Hybrid Recommendation): {rmse_hybrid}\")\n",
    "\n",
    "# Plot Actual vs Predicted for Hybrid Recommendation System\n",
    "plot_actual_vs_predicted(y_actual_hybrid, y_predicted_hybrid, \"Hybrid Recommendation (Content + Collaborative)\", mae_hybrid, rmse_hybrid)\n"
   ]
  },
  {
   "cell_type": "markdown",
   "id": "11503740-3d34-45cc-94de-4e01767c9b6b",
   "metadata": {},
   "source": [
    "# Conclusion: Best Performing Recommendation Algorithm Based on Accuracy Metrics"
   ]
  },
  {
   "cell_type": "code",
   "execution_count": 377,
   "id": "c931e03a-22dc-4192-8b3f-7ca78fa58ae5",
   "metadata": {},
   "outputs": [
    {
     "data": {
      "image/png": "[encoded data removed]",
      "text/plain": [
       "<Figure size 800x400 with 1 Axes>"
      ]
     },
     "metadata": {},
     "output_type": "display_data"
    }
   ],
   "source": [
    "algorithms = ['Rating Algorithm', 'Content-based Filtering', 'Collaborative Filtering', 'Hybrid Recommendation']\n",
    "mae_values = [0.1375, 0.2125, 0.162, 0.138]\n",
    "rmse_values = [0.1695, 0.2475, 0.190, 0.170]\n",
    "\n",
    "bar_width = 0.35\n",
    "index = np.arange(len(algorithms))\n",
    "fig, ax = plt.subplots(figsize=(8,4))\n",
    "\n",
    "# Plotting the bars for MAE and RMSE\n",
    "bar1 = ax.bar(index, mae_values, bar_width, label='MAE', color='b')\n",
    "bar2 = ax.bar(index + bar_width, rmse_values, bar_width, label='RMSE', color='r')\n",
    "\n",
    "# Adding labels, title, and custom x-axis tick labels\n",
    "ax.set_xlabel('Algorithms')\n",
    "ax.set_ylabel('Error Value')\n",
    "ax.set_title('Comparison of MAE and RMSE for Different Recommendation Algorithms')\n",
    "ax.set_xticks(index + bar_width / 2)\n",
    "ax.set_xticklabels(algorithms)\n",
    "ax.legend()\n",
    "\n",
    "# Display the plot\n",
    "plt.tight_layout()\n",
    "plt.show() "
   ]
  }
 ],
 "metadata": {
  "kernelspec": {
   "display_name": "base",
   "language": "python",
   "name": "python3"
  },
  "language_info": {
   "codemirror_mode": {
    "name": "ipython",
    "version": 3
   },
   "file_extension": ".py",
   "mimetype": "text/x-python",
   "name": "python",
   "nbconvert_exporter": "python",
   "pygments_lexer": "ipython3",
   "version": "3.12.4"
  }
 },
 "nbformat": 4,
 "nbformat_minor": 5
}
